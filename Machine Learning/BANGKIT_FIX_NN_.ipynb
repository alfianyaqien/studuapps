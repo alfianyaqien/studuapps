{
  "cells": [
    {
      "cell_type": "markdown",
      "metadata": {
        "id": "view-in-github",
        "colab_type": "text"
      },
      "source": [
        "<a href=\"https://colab.research.google.com/github/alfianyaqien/studuapps/blob/machine-learning/BANGKIT_FIX_NN_.ipynb\" target=\"_parent\"><img src=\"https://colab.research.google.com/assets/colab-badge.svg\" alt=\"Open In Colab\"/></a>"
      ]
    },
    {
      "cell_type": "code",
      "execution_count": null,
      "metadata": {
        "id": "CpfkF_kjHSKO"
      },
      "outputs": [],
      "source": [
        "# IMPORT LIBRARY\n",
        "\n",
        "import os\n",
        "import sys\n",
        "import pandas as pd\n",
        "import numpy as np\n",
        "import sklearn\n",
        "import matplotlib\n",
        "import keras\n",
        "import tensorflow as tf\n",
        "from google.colab import files\n",
        "import seaborn as sns\n",
        "import matplotlib.pyplot as plt\n",
        "%matplotlib inline\n",
        "from keras.utils.np_utils import to_categorical\n",
        "from sklearn.metrics import confusion_matrix\n",
        "from mlxtend.plotting import plot_confusion_matrix\n",
        "from sklearn.metrics import average_precision_score\n",
        "from sklearn.metrics import classification_report\n",
        "from sklearn import model_selection\n"
      ]
    },
    {
      "cell_type": "code",
      "execution_count": null,
      "metadata": {
        "colab": {
          "background_save": true,
          "base_uri": "https://localhost:8080/",
          "height": 73,
          "resources": {
            "http://localhost:8080/nbextensions/google.colab/files.js": {
              "data": "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",
              "headers": [
                [
                  "content-type",
                  "application/javascript"
                ]
              ],
              "ok": true,
              "status": 200,
              "status_text": ""
            }
          }
        },
        "id": "0aXeMBUNH2Dr",
        "outputId": "e13c1602-db1b-4162-b5c2-fa931f41607e"
      },
      "outputs": [
        {
          "data": {
            "text/html": [
              "\n",
              "     <input type=\"file\" id=\"files-a6afac42-341e-425b-ab3b-d260668d6ef8\" name=\"files[]\" multiple disabled\n",
              "        style=\"border:none\" />\n",
              "     <output id=\"result-a6afac42-341e-425b-ab3b-d260668d6ef8\">\n",
              "      Upload widget is only available when the cell has been executed in the\n",
              "      current browser session. Please rerun this cell to enable.\n",
              "      </output>\n",
              "      <script src=\"/nbextensions/google.colab/files.js\"></script> "
            ],
            "text/plain": [
              "<IPython.core.display.HTML object>"
            ]
          },
          "metadata": {},
          "output_type": "display_data"
        }
      ],
      "source": [
        "# UPLOAD FILE\n",
        "stunting = files.upload()"
      ]
    },
    {
      "cell_type": "markdown",
      "metadata": {
        "id": "yjExps2cJPSz"
      },
      "source": [
        "# New Section"
      ]
    },
    {
      "cell_type": "code",
      "execution_count": null,
      "metadata": {
        "colab": {
          "base_uri": "https://localhost:8080/"
        },
        "id": "8_N6G3ZnJB4g",
        "outputId": "1dab3cf0-c7c6-4731-b822-beb600788948"
      },
      "outputs": [
        {
          "name": "stdout",
          "output_type": "stream",
          "text": [
            "      Jenis Kelamin  Umur (0-59 bulan)  Berat badan (kg)  Tinggi badan (cm)  \\\n",
            "113               0                 54             12.00              98.00   \n",
            "114               0                 17              8.07              74.00   \n",
            "115               1                 28             11.07              86.05   \n",
            "116               0                 60              0.00             104.50   \n",
            "117               1                  6              9.05              72.00   \n",
            "...             ...                ...               ...                ...   \n",
            "1195              0                 51             14.07              98.00   \n",
            "1196              1                 49             14.00             102.00   \n",
            "1197              0                 18             10.00              80.00   \n",
            "1198              0                 51             16.00             102.00   \n",
            "1199              0                 53             16.00              98.00   \n",
            "\n",
            "      Label  \n",
            "113       1  \n",
            "114       1  \n",
            "115       1  \n",
            "116       0  \n",
            "117       1  \n",
            "...     ...  \n",
            "1195      1  \n",
            "1196      1  \n",
            "1197      1  \n",
            "1198      1  \n",
            "1199      1  \n",
            "\n",
            "[1087 rows x 5 columns]\n"
          ]
        }
      ],
      "source": [
        "# SAVE FILE AS CSV\n",
        "\n",
        "data = pd.read_csv('normal pendek.csv', delimiter=';')\n",
        "print(data[113:1200])"
      ]
    },
    {
      "cell_type": "code",
      "execution_count": null,
      "metadata": {
        "colab": {
          "base_uri": "https://localhost:8080/"
        },
        "id": "bcWICG5fMTxd",
        "outputId": "2875a1ae-52c0-433d-f65e-d2ff91f36b17"
      },
      "outputs": [
        {
          "data": {
            "text/plain": [
              "Jenis Kelamin          int64\n",
              "Umur (0-59 bulan)      int64\n",
              "Berat badan (kg)     float64\n",
              "Tinggi badan (cm)    float64\n",
              "Label                  int64\n",
              "dtype: object"
            ]
          },
          "execution_count": 25,
          "metadata": {},
          "output_type": "execute_result"
        }
      ],
      "source": [
        "# Transform data to numeric to enable further analysis\n",
        "data = data.apply(pd.to_numeric)\n",
        "data.dtypes"
      ]
    },
    {
      "cell_type": "code",
      "execution_count": null,
      "metadata": {
        "colab": {
          "base_uri": "https://localhost:8080/"
        },
        "id": "RnFkUQjOQQBI",
        "outputId": "fcd75d41-6b1d-456e-d0e4-753f21b1ee3d"
      },
      "outputs": [
        {
          "data": {
            "text/plain": [
              "False"
            ]
          },
          "execution_count": 5,
          "metadata": {},
          "output_type": "execute_result"
        }
      ],
      "source": [
        "# CHECKING MISSING DATA IN VARIABEL UMUR\n",
        "data['Umur (0-59 bulan)'].isnull().values.any()"
      ]
    },
    {
      "cell_type": "code",
      "execution_count": null,
      "metadata": {
        "colab": {
          "base_uri": "https://localhost:8080/"
        },
        "id": "TpF0SFBuQQKZ",
        "outputId": "15f37974-2249-45f3-dcd5-f1543e27901c"
      },
      "outputs": [
        {
          "data": {
            "text/plain": [
              "False"
            ]
          },
          "execution_count": 6,
          "metadata": {},
          "output_type": "execute_result"
        }
      ],
      "source": [
        "# CHECKING MISSING DATA IN VARIABEL BERAT BADAN\n",
        "data['Berat badan (kg)'].isnull().values.any()"
      ]
    },
    {
      "cell_type": "code",
      "execution_count": null,
      "metadata": {
        "colab": {
          "base_uri": "https://localhost:8080/"
        },
        "id": "NDCTDij4QQV6",
        "outputId": "cb3e2dc0-0d5e-417d-cf33-da49ca66f91a"
      },
      "outputs": [
        {
          "data": {
            "text/plain": [
              "False"
            ]
          },
          "execution_count": 7,
          "metadata": {},
          "output_type": "execute_result"
        }
      ],
      "source": [
        "# CHECKING MISSING DATA IN VARIABEL TINGGI BADAN\n",
        "data['Tinggi badan (cm)'].isnull().values.any()"
      ]
    },
    {
      "cell_type": "code",
      "execution_count": null,
      "metadata": {
        "colab": {
          "base_uri": "https://localhost:8080/"
        },
        "id": "v2YmHDLzQcns",
        "outputId": "8c73f7a3-f86e-4144-c046-f800adb9f2fe"
      },
      "outputs": [
        {
          "data": {
            "text/plain": [
              "False"
            ]
          },
          "execution_count": 8,
          "metadata": {},
          "output_type": "execute_result"
        }
      ],
      "source": [
        "# CHECKING MISSING DATA IN VARIABEL LABEL\n",
        "data['Label'].isnull().values.any()"
      ]
    },
    {
      "cell_type": "code",
      "execution_count": null,
      "metadata": {
        "colab": {
          "base_uri": "https://localhost:8080/",
          "height": 279
        },
        "id": "TiBPh13rOdfb",
        "outputId": "790844a3-6169-4855-cab1-b01d98abe57f"
      },
      "outputs": [
        {
          "data": {
            "image/png": "[encoded data removed]",
            "text/plain": [
              "<Figure size 432x288 with 1 Axes>"
            ]
          },
          "metadata": {},
          "output_type": "display_data"
        }
      ],
      "source": [
        "# Data Exploration\n",
        "# FOR LABEL\n",
        "sns.countplot(x=\"Label\", data=data, palette=\"bwr\")\n",
        "plt.show()"
      ]
    },
    {
      "cell_type": "code",
      "execution_count": null,
      "metadata": {
        "colab": {
          "base_uri": "https://localhost:8080/",
          "height": 300
        },
        "id": "EMyJ1wXlPDUL",
        "outputId": "e0ab29c6-63ac-4a2a-8bae-9af53566d1d8"
      },
      "outputs": [
        {
          "data": {
            "text/html": [
              "\n",
              "  <div id=\"df-d6b92623-dc8b-4877-a7f4-7c9184cf1e7a\">\n",
              "    <div class=\"colab-df-container\">\n",
              "      <div>\n",
              "<style scoped>\n",
              "    .dataframe tbody tr th:only-of-type {\n",
              "        vertical-align: middle;\n",
              "    }\n",
              "\n",
              "    .dataframe tbody tr th {\n",
              "        vertical-align: top;\n",
              "    }\n",
              "\n",
              "    .dataframe thead th {\n",
              "        text-align: right;\n",
              "    }\n",
              "</style>\n",
              "<table border=\"1\" class=\"dataframe\">\n",
              "  <thead>\n",
              "    <tr style=\"text-align: right;\">\n",
              "      <th></th>\n",
              "      <th>Jenis Kelamin</th>\n",
              "      <th>Umur (0-59 bulan)</th>\n",
              "      <th>Berat badan (kg)</th>\n",
              "      <th>Tinggi badan (cm)</th>\n",
              "      <th>Label</th>\n",
              "    </tr>\n",
              "  </thead>\n",
              "  <tbody>\n",
              "    <tr>\n",
              "      <th>count</th>\n",
              "      <td>1932.000000</td>\n",
              "      <td>1932.000000</td>\n",
              "      <td>1932.000000</td>\n",
              "      <td>1932.000000</td>\n",
              "      <td>1932.000000</td>\n",
              "    </tr>\n",
              "    <tr>\n",
              "      <th>mean</th>\n",
              "      <td>0.551242</td>\n",
              "      <td>32.498447</td>\n",
              "      <td>10.473089</td>\n",
              "      <td>87.913328</td>\n",
              "      <td>0.513458</td>\n",
              "    </tr>\n",
              "    <tr>\n",
              "      <th>std</th>\n",
              "      <td>0.497496</td>\n",
              "      <td>15.970016</td>\n",
              "      <td>4.971486</td>\n",
              "      <td>12.462152</td>\n",
              "      <td>0.499948</td>\n",
              "    </tr>\n",
              "    <tr>\n",
              "      <th>min</th>\n",
              "      <td>0.000000</td>\n",
              "      <td>0.000000</td>\n",
              "      <td>0.000000</td>\n",
              "      <td>11.000000</td>\n",
              "      <td>0.000000</td>\n",
              "    </tr>\n",
              "    <tr>\n",
              "      <th>25%</th>\n",
              "      <td>0.000000</td>\n",
              "      <td>20.000000</td>\n",
              "      <td>8.600000</td>\n",
              "      <td>80.000000</td>\n",
              "      <td>0.000000</td>\n",
              "    </tr>\n",
              "    <tr>\n",
              "      <th>50%</th>\n",
              "      <td>1.000000</td>\n",
              "      <td>33.000000</td>\n",
              "      <td>11.250000</td>\n",
              "      <td>90.000000</td>\n",
              "      <td>1.000000</td>\n",
              "    </tr>\n",
              "    <tr>\n",
              "      <th>75%</th>\n",
              "      <td>1.000000</td>\n",
              "      <td>46.000000</td>\n",
              "      <td>13.900000</td>\n",
              "      <td>97.600000</td>\n",
              "      <td>1.000000</td>\n",
              "    </tr>\n",
              "    <tr>\n",
              "      <th>max</th>\n",
              "      <td>1.000000</td>\n",
              "      <td>60.000000</td>\n",
              "      <td>26.040000</td>\n",
              "      <td>118.000000</td>\n",
              "      <td>1.000000</td>\n",
              "    </tr>\n",
              "  </tbody>\n",
              "</table>\n",
              "</div>\n",
              "      <button class=\"colab-df-convert\" onclick=\"convertToInteractive('df-d6b92623-dc8b-4877-a7f4-7c9184cf1e7a')\"\n",
              "              title=\"Convert this dataframe to an interactive table.\"\n",
              "              style=\"display:none;\">\n",
              "        \n",
              "  <svg xmlns=\"http://www.w3.org/2000/svg\" height=\"24px\"viewBox=\"0 0 24 24\"\n",
              "       width=\"24px\">\n",
              "    <path d=\"M0 0h24v24H0V0z\" fill=\"none\"/>\n",
              "    <path d=\"M18.56 5.44l.94 2.06.94-2.06 2.06-.94-2.06-.94-.94-2.06-.94 2.06-2.06.94zm-11 1L8.5 8.5l.94-2.06 2.06-.94-2.06-.94L8.5 2.5l-.94 2.06-2.06.94zm10 10l.94 2.06.94-2.06 2.06-.94-2.06-.94-.94-2.06-.94 2.06-2.06.94z\"/><path d=\"M17.41 7.96l-1.37-1.37c-.4-.4-.92-.59-1.43-.59-.52 0-1.04.2-1.43.59L10.3 9.45l-7.72 7.72c-.78.78-.78 2.05 0 2.83L4 21.41c.39.39.9.59 1.41.59.51 0 1.02-.2 1.41-.59l7.78-7.78 2.81-2.81c.8-.78.8-2.07 0-2.86zM5.41 20L4 18.59l7.72-7.72 1.47 1.35L5.41 20z\"/>\n",
              "  </svg>\n",
              "      </button>\n",
              "      \n",
              "  <style>\n",
              "    .colab-df-container {\n",
              "      display:flex;\n",
              "      flex-wrap:wrap;\n",
              "      gap: 12px;\n",
              "    }\n",
              "\n",
              "    .colab-df-convert {\n",
              "      background-color: #E8F0FE;\n",
              "      border: none;\n",
              "      border-radius: 50%;\n",
              "      cursor: pointer;\n",
              "      display: none;\n",
              "      fill: #1967D2;\n",
              "      height: 32px;\n",
              "      padding: 0 0 0 0;\n",
              "      width: 32px;\n",
              "    }\n",
              "\n",
              "    .colab-df-convert:hover {\n",
              "      background-color: #E2EBFA;\n",
              "      box-shadow: 0px 1px 2px rgba(60, 64, 67, 0.3), 0px 1px 3px 1px rgba(60, 64, 67, 0.15);\n",
              "      fill: #174EA6;\n",
              "    }\n",
              "\n",
              "    [theme=dark] .colab-df-convert {\n",
              "      background-color: #3B4455;\n",
              "      fill: #D2E3FC;\n",
              "    }\n",
              "\n",
              "    [theme=dark] .colab-df-convert:hover {\n",
              "      background-color: #434B5C;\n",
              "      box-shadow: 0px 1px 3px 1px rgba(0, 0, 0, 0.15);\n",
              "      filter: drop-shadow(0px 1px 2px rgba(0, 0, 0, 0.3));\n",
              "      fill: #FFFFFF;\n",
              "    }\n",
              "  </style>\n",
              "\n",
              "      <script>\n",
              "        const buttonEl =\n",
              "          document.querySelector('#df-d6b92623-dc8b-4877-a7f4-7c9184cf1e7a button.colab-df-convert');\n",
              "        buttonEl.style.display =\n",
              "          google.colab.kernel.accessAllowed ? 'block' : 'none';\n",
              "\n",
              "        async function convertToInteractive(key) {\n",
              "          const element = document.querySelector('#df-d6b92623-dc8b-4877-a7f4-7c9184cf1e7a');\n",
              "          const dataTable =\n",
              "            await google.colab.kernel.invokeFunction('convertToInteractive',\n",
              "                                                     [key], {});\n",
              "          if (!dataTable) return;\n",
              "\n",
              "          const docLinkHtml = 'Like what you see? Visit the ' +\n",
              "            '<a target=\"_blank\" href=https://colab.research.google.com/notebooks/data_table.ipynb>data table notebook</a>'\n",
              "            + ' to learn more about interactive tables.';\n",
              "          element.innerHTML = '';\n",
              "          dataTable['output_type'] = 'display_data';\n",
              "          await google.colab.output.renderOutput(dataTable, element);\n",
              "          const docLink = document.createElement('div');\n",
              "          docLink.innerHTML = docLinkHtml;\n",
              "          element.appendChild(docLink);\n",
              "        }\n",
              "      </script>\n",
              "    </div>\n",
              "  </div>\n",
              "  "
            ],
            "text/plain": [
              "       Jenis Kelamin  Umur (0-59 bulan)  Berat badan (kg)  Tinggi badan (cm)  \\\n",
              "count    1932.000000        1932.000000       1932.000000        1932.000000   \n",
              "mean        0.551242          32.498447         10.473089          87.913328   \n",
              "std         0.497496          15.970016          4.971486          12.462152   \n",
              "min         0.000000           0.000000          0.000000          11.000000   \n",
              "25%         0.000000          20.000000          8.600000          80.000000   \n",
              "50%         1.000000          33.000000         11.250000          90.000000   \n",
              "75%         1.000000          46.000000         13.900000          97.600000   \n",
              "max         1.000000          60.000000         26.040000         118.000000   \n",
              "\n",
              "             Label  \n",
              "count  1932.000000  \n",
              "mean      0.513458  \n",
              "std       0.499948  \n",
              "min       0.000000  \n",
              "25%       0.000000  \n",
              "50%       1.000000  \n",
              "75%       1.000000  \n",
              "max       1.000000  "
            ]
          },
          "execution_count": 10,
          "metadata": {},
          "output_type": "execute_result"
        }
      ],
      "source": [
        "# STATISTIC DESCRIPTIVE\n",
        "data.describe()"
      ]
    },
    {
      "cell_type": "code",
      "execution_count": null,
      "metadata": {
        "colab": {
          "base_uri": "https://localhost:8080/",
          "height": 716
        },
        "id": "g3l7xym_efwY",
        "outputId": "f818deba-5448-4fe1-d2ba-00ff910a770b"
      },
      "outputs": [
        {
          "data": {
            "image/png": "[encoded data removed]",
            "text/plain": [
              "<Figure size 864x864 with 6 Axes>"
            ]
          },
          "metadata": {},
          "output_type": "display_data"
        }
      ],
      "source": [
        "# HISTOGRAM IN EACH VARIABLE\n",
        "data.hist(figsize = (12, 12))\n",
        "plt.show()"
      ]
    },
    {
      "cell_type": "code",
      "execution_count": null,
      "metadata": {
        "colab": {
          "base_uri": "https://localhost:8080/",
          "height": 596
        },
        "id": "pQ8vBQv6kjf1",
        "outputId": "671cd9b4-693f-4092-9dda-a02ddb1ad9c5"
      },
      "outputs": [
        {
          "data": {
            "image/png": "[encoded data removed]",
            "text/plain": [
              "<Figure size 720x720 with 2 Axes>"
            ]
          },
          "metadata": {},
          "output_type": "display_data"
        }
      ],
      "source": [
        "# HEAT MAP\n",
        "plt.figure(figsize=(10,10))\n",
        "sns.heatmap(data.corr(),annot=True,fmt='.1f')\n",
        "plt.show()"
      ]
    },
    {
      "cell_type": "code",
      "execution_count": null,
      "metadata": {
        "colab": {
          "base_uri": "https://localhost:8080/",
          "height": 407
        },
        "id": "_hBcJGhfgOUU",
        "outputId": "b1433bf3-16fb-4360-f606-2c81176a3f0c"
      },
      "outputs": [
        {
          "data": {
            "image/png": "[encoded data removed]",
            "text/plain": [
              "<Figure size 1440x432 with 1 Axes>"
            ]
          },
          "metadata": {},
          "output_type": "display_data"
        }
      ],
      "source": [
        "pd.crosstab(data['Umur (0-59 bulan)'],data['Label']).plot(kind=\"bar\",figsize=(20,6))\n",
        "plt.title('Stunting Frequency for Ages')\n",
        "plt.xlabel('Age')\n",
        "plt.ylabel('Frequency')\n",
        "plt.show()"
      ]
    },
    {
      "cell_type": "code",
      "execution_count": null,
      "metadata": {
        "colab": {
          "base_uri": "https://localhost:8080/",
          "height": 442
        },
        "id": "zloVCCuGgOcq",
        "outputId": "a7923532-f685-4abf-bac2-f384788276e9"
      },
      "outputs": [
        {
          "data": {
            "image/png": "[encoded data removed]",
            "text/plain": [
              "<Figure size 1440x432 with 1 Axes>"
            ]
          },
          "metadata": {},
          "output_type": "display_data"
        }
      ],
      "source": [
        "pd.crosstab(data['Berat badan (kg)'],data['Label']).plot(kind=\"bar\",figsize=(20,6))\n",
        "plt.title('Stunting Frequency for Weight')\n",
        "plt.xlabel('Weight')\n",
        "plt.ylabel('Frequency')\n",
        "plt.show()"
      ]
    },
    {
      "cell_type": "code",
      "execution_count": null,
      "metadata": {
        "id": "5Hv8bnZPmBE2"
      },
      "outputs": [],
      "source": [
        "pd.crosstab(data['Tinggi badan (cm)'],data['Label']).plot(kind=\"bar\",figsize=(20,6))\n",
        "plt.title('Stunting Frequency for Height')\n",
        "plt.xlabel('Height')\n",
        "plt.ylabel('Frequency')\n",
        "plt.show()"
      ]
    },
    {
      "cell_type": "code",
      "execution_count": null,
      "metadata": {
        "colab": {
          "base_uri": "https://localhost:8080/"
        },
        "id": "3FLK3tDqmBOm",
        "outputId": "0d513be1-f827-4305-e7f8-398efc75086c"
      },
      "outputs": [
        {
          "name": "stderr",
          "output_type": "stream",
          "text": [
            "/usr/local/lib/python3.7/dist-packages/ipykernel_launcher.py:2: FutureWarning: In a future version of pandas all arguments of DataFrame.drop except for the argument 'labels' will be keyword-only\n",
            "  \n"
          ]
        },
        {
          "data": {
            "text/plain": [
              "array([-0.92836243,  0.42777624, -0.50315645,  1.86867358])"
            ]
          },
          "execution_count": 26,
          "metadata": {},
          "output_type": "execute_result"
        }
      ],
      "source": [
        "# Create Training and Label Dataset\n",
        "X = np.array(data.drop(['Label'], 1))\n",
        "Y = np.array(data['Label'])\n",
        "\n",
        "# NORMALIZE DATA X\n",
        "X = (X - X.mean())/X.std()\n",
        "X[0]"
      ]
    },
    {
      "cell_type": "code",
      "execution_count": null,
      "metadata": {
        "colab": {
          "base_uri": "https://localhost:8080/"
        },
        "id": "Ch9oNKYfmBXw",
        "outputId": "23569276-be42-4954-d2f8-4f9ff7001b8f"
      },
      "outputs": [
        {
          "name": "stdout",
          "output_type": "stream",
          "text": [
            "(1738, 2)\n",
            "(155, 2)\n",
            "(39, 2)\n"
          ]
        }
      ],
      "source": [
        "# SPLIT DATA INTO DATA TRAINING AND DATA VALIDATION\n",
        "X_train, X_val, Y_train, Y_val = model_selection.train_test_split(X, Y, stratify= Y, random_state=42, test_size = 0.1)\n",
        "\n",
        "# convert the data to categorical labels\n",
        "Y_train = to_categorical(Y_train, num_classes=None)\n",
        "Y_val = to_categorical(Y_val, num_classes=None)\n",
        "print (Y_train.shape)\n",
        "\n",
        "# SPLIT DATA VALIDATION INTO DATA VALIDATION AND DATA TESTING\n",
        "X_val, X_test, Y_val, Y_test = model_selection.train_test_split(X_val, Y_val, stratify = Y_val, random_state=42, test_size =0.2)\n",
        "print(Y_val.shape)\n",
        "print(Y_test.shape)"
      ]
    },
    {
      "cell_type": "code",
      "execution_count": null,
      "metadata": {
        "id": "g1HVu8M8Ms5H"
      },
      "outputs": [],
      "source": [
        "print(X_val[0:50])"
      ]
    },
    {
      "cell_type": "code",
      "execution_count": null,
      "metadata": {
        "colab": {
          "base_uri": "https://localhost:8080/"
        },
        "id": "kU89jCqEuEK2",
        "outputId": "8d58ab61-f9c3-4164-d500-737cec99de4d"
      },
      "outputs": [
        {
          "name": "stdout",
          "output_type": "stream",
          "text": [
            "Model: \"sequential\"\n",
            "_________________________________________________________________\n",
            " Layer (type)                Output Shape              Param #   \n",
            "=================================================================\n",
            " dense (Dense)               (None, 128)               640       \n",
            "                                                                 \n",
            " dense_1 (Dense)             (None, 64)                8256      \n",
            "                                                                 \n",
            " dropout (Dropout)           (None, 64)                0         \n",
            "                                                                 \n",
            " dense_2 (Dense)             (None, 32)                2080      \n",
            "                                                                 \n",
            " dropout_1 (Dropout)         (None, 32)                0         \n",
            "                                                                 \n",
            " dense_3 (Dense)             (None, 16)                528       \n",
            "                                                                 \n",
            " dense_4 (Dense)             (None, 2)                 34        \n",
            "                                                                 \n",
            "=================================================================\n",
            "Total params: 11,538\n",
            "Trainable params: 11,538\n",
            "Non-trainable params: 0\n",
            "_________________________________________________________________\n",
            "None\n"
          ]
        }
      ],
      "source": [
        "#BUILDING MODEL\n",
        "model = tf.keras.Sequential([\n",
        "                             tf.keras.layers.Dense(128, input_dim=4, kernel_initializer='normal', kernel_regularizer=tf.keras.regularizers.l2(0.001), activation='relu'),\n",
        "                             tf.keras.layers.Dense(64, kernel_initializer='normal', activation='relu'),\n",
        "                             tf.keras.layers.Dropout(0.25),\n",
        "                             tf.keras.layers.Dense(32, kernel_initializer='normal', activation='relu'),\n",
        "                             tf.keras.layers.Dropout(0.25),\n",
        "                             tf.keras.layers.Dense(16, activation='relu'),\n",
        "                             tf.keras.layers.Dense(2, activation='sigmoid')\n",
        "]) \n",
        "print(model.summary())"
      ]
    },
    {
      "cell_type": "code",
      "execution_count": null,
      "metadata": {
        "id": "Zu79VtygwqDt"
      },
      "outputs": [],
      "source": [
        "# COMPILE MODEL\n",
        "lr = 0.001\n",
        "adam = tf.keras.optimizers.Adam(learning_rate=lr)\n",
        "model.compile(loss='binary_crossentropy', optimizer=adam, metrics=['accuracy'])"
      ]
    },
    {
      "cell_type": "code",
      "execution_count": null,
      "metadata": {
        "colab": {
          "base_uri": "https://localhost:8080/"
        },
        "id": "tjlwTWEzw8_v",
        "outputId": "69141fad-d907-450a-af83-b7cc2256a069"
      },
      "outputs": [
        {
          "name": "stdout",
          "output_type": "stream",
          "text": [
            "Epoch 1/150\n",
            "70/70 [==============================] - 1s 6ms/step - loss: 0.6937 - accuracy: 0.5155 - val_loss: 0.6924 - val_accuracy: 0.5161\n",
            "Epoch 2/150\n",
            "70/70 [==============================] - 0s 3ms/step - loss: 0.6924 - accuracy: 0.5104 - val_loss: 0.6893 - val_accuracy: 0.5161\n",
            "Epoch 3/150\n",
            "70/70 [==============================] - 0s 3ms/step - loss: 0.6846 - accuracy: 0.5765 - val_loss: 0.6690 - val_accuracy: 0.5871\n",
            "Epoch 4/150\n",
            "70/70 [==============================] - 0s 3ms/step - loss: 0.6701 - accuracy: 0.5880 - val_loss: 0.6144 - val_accuracy: 0.7097\n",
            "Epoch 5/150\n",
            "70/70 [==============================] - 0s 3ms/step - loss: 0.6374 - accuracy: 0.6398 - val_loss: 0.5664 - val_accuracy: 0.7032\n",
            "Epoch 6/150\n",
            "70/70 [==============================] - 0s 4ms/step - loss: 0.6106 - accuracy: 0.6507 - val_loss: 0.5405 - val_accuracy: 0.7419\n",
            "Epoch 7/150\n",
            "70/70 [==============================] - 0s 3ms/step - loss: 0.5950 - accuracy: 0.6743 - val_loss: 0.5287 - val_accuracy: 0.7484\n",
            "Epoch 8/150\n",
            "70/70 [==============================] - 0s 4ms/step - loss: 0.5907 - accuracy: 0.6807 - val_loss: 0.5323 - val_accuracy: 0.7226\n",
            "Epoch 9/150\n",
            "70/70 [==============================] - 0s 3ms/step - loss: 0.5730 - accuracy: 0.6824 - val_loss: 0.5158 - val_accuracy: 0.7419\n",
            "Epoch 10/150\n",
            "70/70 [==============================] - 0s 3ms/step - loss: 0.5790 - accuracy: 0.6864 - val_loss: 0.5194 - val_accuracy: 0.7548\n",
            "Epoch 11/150\n",
            "70/70 [==============================] - 0s 3ms/step - loss: 0.5737 - accuracy: 0.6910 - val_loss: 0.5585 - val_accuracy: 0.6903\n",
            "Epoch 12/150\n",
            "70/70 [==============================] - 0s 3ms/step - loss: 0.5713 - accuracy: 0.6876 - val_loss: 0.5017 - val_accuracy: 0.7355\n",
            "Epoch 13/150\n",
            "70/70 [==============================] - 0s 3ms/step - loss: 0.5696 - accuracy: 0.6916 - val_loss: 0.5222 - val_accuracy: 0.7419\n",
            "Epoch 14/150\n",
            "70/70 [==============================] - 0s 3ms/step - loss: 0.5678 - accuracy: 0.6939 - val_loss: 0.5108 - val_accuracy: 0.7419\n",
            "Epoch 15/150\n",
            "70/70 [==============================] - 0s 3ms/step - loss: 0.5689 - accuracy: 0.6916 - val_loss: 0.5026 - val_accuracy: 0.7355\n",
            "Epoch 16/150\n",
            "70/70 [==============================] - 0s 3ms/step - loss: 0.5605 - accuracy: 0.7008 - val_loss: 0.5089 - val_accuracy: 0.7355\n",
            "Epoch 17/150\n",
            "70/70 [==============================] - 0s 4ms/step - loss: 0.5673 - accuracy: 0.6916 - val_loss: 0.5301 - val_accuracy: 0.7290\n",
            "Epoch 18/150\n",
            "70/70 [==============================] - 0s 4ms/step - loss: 0.5724 - accuracy: 0.6922 - val_loss: 0.5209 - val_accuracy: 0.7419\n",
            "Epoch 19/150\n",
            "70/70 [==============================] - 0s 4ms/step - loss: 0.5634 - accuracy: 0.6939 - val_loss: 0.5117 - val_accuracy: 0.7419\n",
            "Epoch 20/150\n",
            "70/70 [==============================] - 0s 4ms/step - loss: 0.5563 - accuracy: 0.7054 - val_loss: 0.5068 - val_accuracy: 0.7484\n",
            "Epoch 21/150\n",
            "70/70 [==============================] - 0s 3ms/step - loss: 0.5654 - accuracy: 0.7025 - val_loss: 0.4979 - val_accuracy: 0.7355\n",
            "Epoch 22/150\n",
            "70/70 [==============================] - 0s 3ms/step - loss: 0.5672 - accuracy: 0.6922 - val_loss: 0.5632 - val_accuracy: 0.6903\n",
            "Epoch 23/150\n",
            "70/70 [==============================] - 0s 3ms/step - loss: 0.5714 - accuracy: 0.6893 - val_loss: 0.4981 - val_accuracy: 0.7484\n",
            "Epoch 24/150\n",
            "70/70 [==============================] - 0s 3ms/step - loss: 0.5704 - accuracy: 0.6962 - val_loss: 0.5071 - val_accuracy: 0.7419\n",
            "Epoch 25/150\n",
            "70/70 [==============================] - 0s 3ms/step - loss: 0.5626 - accuracy: 0.6985 - val_loss: 0.4975 - val_accuracy: 0.7548\n",
            "Epoch 26/150\n",
            "70/70 [==============================] - 0s 3ms/step - loss: 0.5635 - accuracy: 0.7014 - val_loss: 0.5207 - val_accuracy: 0.7419\n",
            "Epoch 27/150\n",
            "70/70 [==============================] - 0s 3ms/step - loss: 0.5706 - accuracy: 0.6928 - val_loss: 0.5337 - val_accuracy: 0.7226\n",
            "Epoch 28/150\n",
            "70/70 [==============================] - 0s 3ms/step - loss: 0.5710 - accuracy: 0.6928 - val_loss: 0.4948 - val_accuracy: 0.7677\n",
            "Epoch 29/150\n",
            "70/70 [==============================] - 0s 3ms/step - loss: 0.5612 - accuracy: 0.7066 - val_loss: 0.5136 - val_accuracy: 0.7290\n",
            "Epoch 30/150\n",
            "70/70 [==============================] - 0s 3ms/step - loss: 0.5582 - accuracy: 0.7037 - val_loss: 0.5203 - val_accuracy: 0.7290\n",
            "Epoch 31/150\n",
            "70/70 [==============================] - 0s 3ms/step - loss: 0.5684 - accuracy: 0.6956 - val_loss: 0.5287 - val_accuracy: 0.7355\n",
            "Epoch 32/150\n",
            "70/70 [==============================] - 0s 3ms/step - loss: 0.5572 - accuracy: 0.7066 - val_loss: 0.4941 - val_accuracy: 0.7677\n",
            "Epoch 33/150\n",
            "70/70 [==============================] - 0s 3ms/step - loss: 0.5550 - accuracy: 0.7112 - val_loss: 0.4950 - val_accuracy: 0.7484\n",
            "Epoch 34/150\n",
            "70/70 [==============================] - 0s 3ms/step - loss: 0.5566 - accuracy: 0.7014 - val_loss: 0.4883 - val_accuracy: 0.7355\n",
            "Epoch 35/150\n",
            "70/70 [==============================] - 0s 4ms/step - loss: 0.5542 - accuracy: 0.7106 - val_loss: 0.4961 - val_accuracy: 0.7548\n",
            "Epoch 36/150\n",
            "70/70 [==============================] - 0s 4ms/step - loss: 0.5603 - accuracy: 0.7014 - val_loss: 0.4935 - val_accuracy: 0.7355\n",
            "Epoch 37/150\n",
            "70/70 [==============================] - 0s 3ms/step - loss: 0.5634 - accuracy: 0.7002 - val_loss: 0.5251 - val_accuracy: 0.7355\n",
            "Epoch 38/150\n",
            "70/70 [==============================] - 0s 4ms/step - loss: 0.5601 - accuracy: 0.7008 - val_loss: 0.5227 - val_accuracy: 0.7355\n",
            "Epoch 39/150\n",
            "70/70 [==============================] - 0s 5ms/step - loss: 0.5551 - accuracy: 0.7077 - val_loss: 0.4896 - val_accuracy: 0.7419\n",
            "Epoch 40/150\n",
            "70/70 [==============================] - 0s 5ms/step - loss: 0.5555 - accuracy: 0.7123 - val_loss: 0.5241 - val_accuracy: 0.7290\n",
            "Epoch 41/150\n",
            "70/70 [==============================] - 0s 4ms/step - loss: 0.5571 - accuracy: 0.6985 - val_loss: 0.5033 - val_accuracy: 0.7290\n",
            "Epoch 42/150\n",
            "70/70 [==============================] - 0s 3ms/step - loss: 0.5487 - accuracy: 0.7232 - val_loss: 0.4791 - val_accuracy: 0.7613\n",
            "Epoch 43/150\n",
            "70/70 [==============================] - 0s 3ms/step - loss: 0.5622 - accuracy: 0.7158 - val_loss: 0.5284 - val_accuracy: 0.6903\n",
            "Epoch 44/150\n",
            "70/70 [==============================] - 0s 4ms/step - loss: 0.5777 - accuracy: 0.6818 - val_loss: 0.5024 - val_accuracy: 0.7548\n",
            "Epoch 45/150\n",
            "70/70 [==============================] - 0s 4ms/step - loss: 0.5587 - accuracy: 0.7043 - val_loss: 0.4967 - val_accuracy: 0.7742\n",
            "Epoch 46/150\n",
            "70/70 [==============================] - 0s 4ms/step - loss: 0.5715 - accuracy: 0.6945 - val_loss: 0.4935 - val_accuracy: 0.7613\n",
            "Epoch 47/150\n",
            "70/70 [==============================] - 0s 4ms/step - loss: 0.5471 - accuracy: 0.7175 - val_loss: 0.4981 - val_accuracy: 0.7677\n",
            "Epoch 48/150\n",
            "70/70 [==============================] - 0s 3ms/step - loss: 0.5540 - accuracy: 0.7054 - val_loss: 0.4888 - val_accuracy: 0.7355\n",
            "Epoch 49/150\n",
            "70/70 [==============================] - 0s 4ms/step - loss: 0.5602 - accuracy: 0.6974 - val_loss: 0.4953 - val_accuracy: 0.7548\n",
            "Epoch 50/150\n",
            "70/70 [==============================] - 0s 4ms/step - loss: 0.5486 - accuracy: 0.7186 - val_loss: 0.4854 - val_accuracy: 0.7548\n",
            "Epoch 51/150\n",
            "70/70 [==============================] - 0s 3ms/step - loss: 0.5530 - accuracy: 0.7043 - val_loss: 0.5204 - val_accuracy: 0.7355\n",
            "Epoch 52/150\n",
            "70/70 [==============================] - 0s 3ms/step - loss: 0.5573 - accuracy: 0.6985 - val_loss: 0.4932 - val_accuracy: 0.7677\n",
            "Epoch 53/150\n",
            "70/70 [==============================] - 0s 3ms/step - loss: 0.5537 - accuracy: 0.7071 - val_loss: 0.4942 - val_accuracy: 0.7484\n",
            "Epoch 54/150\n",
            "70/70 [==============================] - 0s 3ms/step - loss: 0.5496 - accuracy: 0.7129 - val_loss: 0.4882 - val_accuracy: 0.7484\n",
            "Epoch 55/150\n",
            "70/70 [==============================] - 0s 3ms/step - loss: 0.5449 - accuracy: 0.7106 - val_loss: 0.5047 - val_accuracy: 0.7484\n",
            "Epoch 56/150\n",
            "70/70 [==============================] - 0s 4ms/step - loss: 0.5517 - accuracy: 0.7083 - val_loss: 0.4844 - val_accuracy: 0.7677\n",
            "Epoch 57/150\n",
            "70/70 [==============================] - 0s 4ms/step - loss: 0.5503 - accuracy: 0.7135 - val_loss: 0.4769 - val_accuracy: 0.7806\n",
            "Epoch 58/150\n",
            "70/70 [==============================] - 0s 4ms/step - loss: 0.5459 - accuracy: 0.7192 - val_loss: 0.4812 - val_accuracy: 0.7742\n",
            "Epoch 59/150\n",
            "70/70 [==============================] - 0s 4ms/step - loss: 0.5429 - accuracy: 0.7135 - val_loss: 0.5068 - val_accuracy: 0.7484\n",
            "Epoch 60/150\n",
            "70/70 [==============================] - 0s 4ms/step - loss: 0.5470 - accuracy: 0.7112 - val_loss: 0.4803 - val_accuracy: 0.7613\n",
            "Epoch 61/150\n",
            "70/70 [==============================] - 0s 4ms/step - loss: 0.5481 - accuracy: 0.7123 - val_loss: 0.4771 - val_accuracy: 0.7871\n",
            "Epoch 62/150\n",
            "70/70 [==============================] - 0s 4ms/step - loss: 0.5520 - accuracy: 0.7112 - val_loss: 0.4883 - val_accuracy: 0.7484\n",
            "Epoch 63/150\n",
            "70/70 [==============================] - 0s 3ms/step - loss: 0.5447 - accuracy: 0.7186 - val_loss: 0.4847 - val_accuracy: 0.7548\n",
            "Epoch 64/150\n",
            "70/70 [==============================] - 0s 3ms/step - loss: 0.5401 - accuracy: 0.7232 - val_loss: 0.4891 - val_accuracy: 0.7484\n",
            "Epoch 65/150\n",
            "70/70 [==============================] - 0s 3ms/step - loss: 0.5441 - accuracy: 0.7117 - val_loss: 0.4861 - val_accuracy: 0.7484\n",
            "Epoch 66/150\n",
            "70/70 [==============================] - 0s 3ms/step - loss: 0.5443 - accuracy: 0.7169 - val_loss: 0.4725 - val_accuracy: 0.7742\n",
            "Epoch 67/150\n",
            "70/70 [==============================] - 0s 4ms/step - loss: 0.5391 - accuracy: 0.7221 - val_loss: 0.4844 - val_accuracy: 0.7677\n",
            "Epoch 68/150\n",
            "70/70 [==============================] - 0s 3ms/step - loss: 0.5470 - accuracy: 0.7135 - val_loss: 0.4830 - val_accuracy: 0.7742\n",
            "Epoch 69/150\n",
            "70/70 [==============================] - 0s 3ms/step - loss: 0.5448 - accuracy: 0.7112 - val_loss: 0.4839 - val_accuracy: 0.7613\n",
            "Epoch 70/150\n",
            "70/70 [==============================] - 0s 4ms/step - loss: 0.5460 - accuracy: 0.7140 - val_loss: 0.4784 - val_accuracy: 0.7677\n",
            "Epoch 71/150\n",
            "70/70 [==============================] - 0s 3ms/step - loss: 0.5496 - accuracy: 0.7135 - val_loss: 0.5060 - val_accuracy: 0.7226\n",
            "Epoch 72/150\n",
            "70/70 [==============================] - 0s 4ms/step - loss: 0.5469 - accuracy: 0.7140 - val_loss: 0.4783 - val_accuracy: 0.7806\n",
            "Epoch 73/150\n",
            "70/70 [==============================] - 0s 3ms/step - loss: 0.5442 - accuracy: 0.7175 - val_loss: 0.4896 - val_accuracy: 0.7355\n",
            "Epoch 74/150\n",
            "70/70 [==============================] - 0s 4ms/step - loss: 0.5470 - accuracy: 0.7031 - val_loss: 0.4795 - val_accuracy: 0.7806\n",
            "Epoch 75/150\n",
            "70/70 [==============================] - 0s 3ms/step - loss: 0.5387 - accuracy: 0.7169 - val_loss: 0.5093 - val_accuracy: 0.7484\n",
            "Epoch 76/150\n",
            "70/70 [==============================] - 0s 3ms/step - loss: 0.5452 - accuracy: 0.7238 - val_loss: 0.4782 - val_accuracy: 0.7548\n",
            "Epoch 77/150\n",
            "70/70 [==============================] - 0s 3ms/step - loss: 0.5399 - accuracy: 0.7250 - val_loss: 0.4889 - val_accuracy: 0.7548\n",
            "Epoch 78/150\n",
            "70/70 [==============================] - 0s 3ms/step - loss: 0.5458 - accuracy: 0.7094 - val_loss: 0.4836 - val_accuracy: 0.7742\n",
            "Epoch 79/150\n",
            "70/70 [==============================] - 0s 3ms/step - loss: 0.5401 - accuracy: 0.7123 - val_loss: 0.4971 - val_accuracy: 0.7484\n",
            "Epoch 80/150\n",
            "70/70 [==============================] - 0s 3ms/step - loss: 0.5586 - accuracy: 0.7077 - val_loss: 0.5089 - val_accuracy: 0.7548\n",
            "Epoch 81/150\n",
            "70/70 [==============================] - 0s 3ms/step - loss: 0.5366 - accuracy: 0.7181 - val_loss: 0.4711 - val_accuracy: 0.7613\n",
            "Epoch 82/150\n",
            "70/70 [==============================] - 0s 3ms/step - loss: 0.5466 - accuracy: 0.7181 - val_loss: 0.4797 - val_accuracy: 0.7806\n",
            "Epoch 83/150\n",
            "70/70 [==============================] - 0s 3ms/step - loss: 0.5458 - accuracy: 0.7066 - val_loss: 0.4849 - val_accuracy: 0.7806\n",
            "Epoch 84/150\n",
            "70/70 [==============================] - 0s 3ms/step - loss: 0.5392 - accuracy: 0.7146 - val_loss: 0.4736 - val_accuracy: 0.7613\n",
            "Epoch 85/150\n",
            "70/70 [==============================] - 0s 3ms/step - loss: 0.5421 - accuracy: 0.7129 - val_loss: 0.4698 - val_accuracy: 0.7613\n",
            "Epoch 86/150\n",
            "70/70 [==============================] - 0s 3ms/step - loss: 0.5383 - accuracy: 0.7209 - val_loss: 0.4747 - val_accuracy: 0.7742\n",
            "Epoch 87/150\n",
            "70/70 [==============================] - 0s 3ms/step - loss: 0.5445 - accuracy: 0.7112 - val_loss: 0.4723 - val_accuracy: 0.7742\n",
            "Epoch 88/150\n",
            "70/70 [==============================] - 0s 3ms/step - loss: 0.5419 - accuracy: 0.7117 - val_loss: 0.4779 - val_accuracy: 0.7742\n",
            "Epoch 89/150\n",
            "70/70 [==============================] - 0s 3ms/step - loss: 0.5615 - accuracy: 0.6887 - val_loss: 0.4910 - val_accuracy: 0.7677\n",
            "Epoch 90/150\n",
            "70/70 [==============================] - 0s 3ms/step - loss: 0.5431 - accuracy: 0.7169 - val_loss: 0.4823 - val_accuracy: 0.7548\n",
            "Epoch 91/150\n",
            "70/70 [==============================] - 0s 3ms/step - loss: 0.5525 - accuracy: 0.7054 - val_loss: 0.5119 - val_accuracy: 0.7484\n",
            "Epoch 92/150\n",
            "70/70 [==============================] - 0s 4ms/step - loss: 0.5491 - accuracy: 0.7077 - val_loss: 0.5117 - val_accuracy: 0.7290\n",
            "Epoch 93/150\n",
            "70/70 [==============================] - 0s 3ms/step - loss: 0.5491 - accuracy: 0.7163 - val_loss: 0.4800 - val_accuracy: 0.7806\n",
            "Epoch 94/150\n",
            "70/70 [==============================] - 0s 3ms/step - loss: 0.5401 - accuracy: 0.7192 - val_loss: 0.4898 - val_accuracy: 0.7613\n",
            "Epoch 95/150\n",
            "70/70 [==============================] - 0s 3ms/step - loss: 0.5408 - accuracy: 0.7278 - val_loss: 0.4755 - val_accuracy: 0.7871\n",
            "Epoch 96/150\n",
            "70/70 [==============================] - 0s 3ms/step - loss: 0.5465 - accuracy: 0.7123 - val_loss: 0.4836 - val_accuracy: 0.7677\n",
            "Epoch 97/150\n",
            "70/70 [==============================] - 0s 3ms/step - loss: 0.5596 - accuracy: 0.7048 - val_loss: 0.4975 - val_accuracy: 0.7548\n",
            "Epoch 98/150\n",
            "70/70 [==============================] - 0s 3ms/step - loss: 0.5371 - accuracy: 0.7238 - val_loss: 0.4740 - val_accuracy: 0.7806\n",
            "Epoch 99/150\n",
            "70/70 [==============================] - 0s 3ms/step - loss: 0.5319 - accuracy: 0.7261 - val_loss: 0.4718 - val_accuracy: 0.7935\n",
            "Epoch 100/150\n",
            "70/70 [==============================] - 0s 3ms/step - loss: 0.5346 - accuracy: 0.7255 - val_loss: 0.4671 - val_accuracy: 0.7806\n",
            "Epoch 101/150\n",
            "70/70 [==============================] - 0s 3ms/step - loss: 0.5371 - accuracy: 0.7186 - val_loss: 0.4690 - val_accuracy: 0.8000\n",
            "Epoch 102/150\n",
            "70/70 [==============================] - 0s 3ms/step - loss: 0.5381 - accuracy: 0.7209 - val_loss: 0.4767 - val_accuracy: 0.7742\n",
            "Epoch 103/150\n",
            "70/70 [==============================] - 0s 3ms/step - loss: 0.5322 - accuracy: 0.7278 - val_loss: 0.4796 - val_accuracy: 0.7806\n",
            "Epoch 104/150\n",
            "70/70 [==============================] - 0s 3ms/step - loss: 0.5358 - accuracy: 0.7261 - val_loss: 0.4960 - val_accuracy: 0.7355\n",
            "Epoch 105/150\n",
            "70/70 [==============================] - 0s 3ms/step - loss: 0.5311 - accuracy: 0.7342 - val_loss: 0.4719 - val_accuracy: 0.7806\n",
            "Epoch 106/150\n",
            "70/70 [==============================] - 0s 3ms/step - loss: 0.5325 - accuracy: 0.7301 - val_loss: 0.4746 - val_accuracy: 0.7677\n",
            "Epoch 107/150\n",
            "70/70 [==============================] - 0s 3ms/step - loss: 0.5311 - accuracy: 0.7319 - val_loss: 0.4848 - val_accuracy: 0.7677\n",
            "Epoch 108/150\n",
            "70/70 [==============================] - 0s 3ms/step - loss: 0.5329 - accuracy: 0.7255 - val_loss: 0.4653 - val_accuracy: 0.8000\n",
            "Epoch 109/150\n",
            "70/70 [==============================] - 0s 3ms/step - loss: 0.5334 - accuracy: 0.7284 - val_loss: 0.4663 - val_accuracy: 0.7935\n",
            "Epoch 110/150\n",
            "70/70 [==============================] - 0s 4ms/step - loss: 0.5328 - accuracy: 0.7169 - val_loss: 0.4803 - val_accuracy: 0.7613\n",
            "Epoch 111/150\n",
            "70/70 [==============================] - 0s 3ms/step - loss: 0.5458 - accuracy: 0.7169 - val_loss: 0.4716 - val_accuracy: 0.7871\n",
            "Epoch 112/150\n",
            "70/70 [==============================] - 0s 3ms/step - loss: 0.5359 - accuracy: 0.7181 - val_loss: 0.4720 - val_accuracy: 0.7871\n",
            "Epoch 113/150\n",
            "70/70 [==============================] - 0s 3ms/step - loss: 0.5303 - accuracy: 0.7284 - val_loss: 0.4715 - val_accuracy: 0.7806\n",
            "Epoch 114/150\n",
            "70/70 [==============================] - 0s 3ms/step - loss: 0.5248 - accuracy: 0.7284 - val_loss: 0.4653 - val_accuracy: 0.7935\n",
            "Epoch 115/150\n",
            "70/70 [==============================] - 0s 3ms/step - loss: 0.5298 - accuracy: 0.7250 - val_loss: 0.4974 - val_accuracy: 0.7419\n",
            "Epoch 116/150\n",
            "70/70 [==============================] - 0s 3ms/step - loss: 0.5348 - accuracy: 0.7261 - val_loss: 0.4586 - val_accuracy: 0.7935\n",
            "Epoch 117/150\n",
            "70/70 [==============================] - 0s 3ms/step - loss: 0.5320 - accuracy: 0.7296 - val_loss: 0.4904 - val_accuracy: 0.7613\n",
            "Epoch 118/150\n",
            "70/70 [==============================] - 0s 3ms/step - loss: 0.5315 - accuracy: 0.7209 - val_loss: 0.4734 - val_accuracy: 0.7742\n",
            "Epoch 119/150\n",
            "70/70 [==============================] - 0s 3ms/step - loss: 0.5366 - accuracy: 0.7215 - val_loss: 0.4743 - val_accuracy: 0.7677\n",
            "Epoch 120/150\n",
            "70/70 [==============================] - 0s 3ms/step - loss: 0.5319 - accuracy: 0.7238 - val_loss: 0.4785 - val_accuracy: 0.7806\n",
            "Epoch 121/150\n",
            "70/70 [==============================] - 0s 3ms/step - loss: 0.5291 - accuracy: 0.7296 - val_loss: 0.4698 - val_accuracy: 0.7742\n",
            "Epoch 122/150\n",
            "70/70 [==============================] - 0s 3ms/step - loss: 0.5405 - accuracy: 0.7175 - val_loss: 0.4647 - val_accuracy: 0.7935\n",
            "Epoch 123/150\n",
            "70/70 [==============================] - 0s 3ms/step - loss: 0.5196 - accuracy: 0.7422 - val_loss: 0.4660 - val_accuracy: 0.7935\n",
            "Epoch 124/150\n",
            "70/70 [==============================] - 0s 3ms/step - loss: 0.5223 - accuracy: 0.7348 - val_loss: 0.4592 - val_accuracy: 0.8000\n",
            "Epoch 125/150\n",
            "70/70 [==============================] - 0s 3ms/step - loss: 0.5231 - accuracy: 0.7301 - val_loss: 0.4614 - val_accuracy: 0.7871\n",
            "Epoch 126/150\n",
            "70/70 [==============================] - 0s 3ms/step - loss: 0.5290 - accuracy: 0.7353 - val_loss: 0.4590 - val_accuracy: 0.7806\n",
            "Epoch 127/150\n",
            "70/70 [==============================] - 0s 3ms/step - loss: 0.5299 - accuracy: 0.7238 - val_loss: 0.4694 - val_accuracy: 0.7742\n",
            "Epoch 128/150\n",
            "70/70 [==============================] - 0s 3ms/step - loss: 0.5321 - accuracy: 0.7238 - val_loss: 0.4859 - val_accuracy: 0.7613\n",
            "Epoch 129/150\n",
            "70/70 [==============================] - 0s 3ms/step - loss: 0.5267 - accuracy: 0.7353 - val_loss: 0.4650 - val_accuracy: 0.7806\n",
            "Epoch 130/150\n",
            "70/70 [==============================] - 0s 3ms/step - loss: 0.5248 - accuracy: 0.7325 - val_loss: 0.4804 - val_accuracy: 0.7484\n",
            "Epoch 131/150\n",
            "70/70 [==============================] - 0s 3ms/step - loss: 0.5212 - accuracy: 0.7319 - val_loss: 0.4588 - val_accuracy: 0.7742\n",
            "Epoch 132/150\n",
            "70/70 [==============================] - 0s 3ms/step - loss: 0.5281 - accuracy: 0.7296 - val_loss: 0.4569 - val_accuracy: 0.7806\n",
            "Epoch 133/150\n",
            "70/70 [==============================] - 0s 3ms/step - loss: 0.5288 - accuracy: 0.7342 - val_loss: 0.4561 - val_accuracy: 0.7871\n",
            "Epoch 134/150\n",
            "70/70 [==============================] - 0s 3ms/step - loss: 0.5293 - accuracy: 0.7267 - val_loss: 0.4770 - val_accuracy: 0.7742\n",
            "Epoch 135/150\n",
            "70/70 [==============================] - 0s 3ms/step - loss: 0.5212 - accuracy: 0.7301 - val_loss: 0.4607 - val_accuracy: 0.8000\n",
            "Epoch 136/150\n",
            "70/70 [==============================] - 0s 3ms/step - loss: 0.5328 - accuracy: 0.7198 - val_loss: 0.4660 - val_accuracy: 0.7806\n",
            "Epoch 137/150\n",
            "70/70 [==============================] - 0s 3ms/step - loss: 0.5233 - accuracy: 0.7365 - val_loss: 0.4633 - val_accuracy: 0.7806\n",
            "Epoch 138/150\n",
            "70/70 [==============================] - 0s 3ms/step - loss: 0.5244 - accuracy: 0.7284 - val_loss: 0.4556 - val_accuracy: 0.7871\n",
            "Epoch 139/150\n",
            "70/70 [==============================] - 0s 3ms/step - loss: 0.5329 - accuracy: 0.7169 - val_loss: 0.4639 - val_accuracy: 0.8000\n",
            "Epoch 140/150\n",
            "70/70 [==============================] - 0s 4ms/step - loss: 0.5251 - accuracy: 0.7353 - val_loss: 0.4513 - val_accuracy: 0.8000\n",
            "Epoch 141/150\n",
            "70/70 [==============================] - 0s 3ms/step - loss: 0.5174 - accuracy: 0.7371 - val_loss: 0.4636 - val_accuracy: 0.7935\n",
            "Epoch 142/150\n",
            "70/70 [==============================] - 0s 3ms/step - loss: 0.5297 - accuracy: 0.7261 - val_loss: 0.4561 - val_accuracy: 0.7871\n",
            "Epoch 143/150\n",
            "70/70 [==============================] - 0s 3ms/step - loss: 0.5180 - accuracy: 0.7376 - val_loss: 0.4627 - val_accuracy: 0.7806\n",
            "Epoch 144/150\n",
            "70/70 [==============================] - 0s 3ms/step - loss: 0.5151 - accuracy: 0.7428 - val_loss: 0.5552 - val_accuracy: 0.7226\n",
            "Epoch 145/150\n",
            "70/70 [==============================] - 0s 3ms/step - loss: 0.5258 - accuracy: 0.7301 - val_loss: 0.4626 - val_accuracy: 0.7871\n",
            "Epoch 146/150\n",
            "70/70 [==============================] - 0s 3ms/step - loss: 0.5183 - accuracy: 0.7497 - val_loss: 0.4577 - val_accuracy: 0.7871\n",
            "Epoch 147/150\n",
            "70/70 [==============================] - 0s 3ms/step - loss: 0.5215 - accuracy: 0.7325 - val_loss: 0.4593 - val_accuracy: 0.7871\n",
            "Epoch 148/150\n",
            "70/70 [==============================] - 0s 4ms/step - loss: 0.5259 - accuracy: 0.7353 - val_loss: 0.4657 - val_accuracy: 0.7613\n",
            "Epoch 149/150\n",
            "70/70 [==============================] - 0s 3ms/step - loss: 0.5156 - accuracy: 0.7411 - val_loss: 0.4926 - val_accuracy: 0.7484\n",
            "Epoch 150/150\n",
            "70/70 [==============================] - 0s 3ms/step - loss: 0.5211 - accuracy: 0.7278 - val_loss: 0.4523 - val_accuracy: 0.8000\n"
          ]
        }
      ],
      "source": [
        "# TRAINING THE MODEL\n",
        "history=model.fit(X_train, Y_train, validation_data=(X_val, Y_val),epochs=150, batch_size=25)"
      ]
    },
    {
      "cell_type": "code",
      "execution_count": null,
      "metadata": {
        "colab": {
          "base_uri": "https://localhost:8080/",
          "height": 295
        },
        "id": "dRy8807HxZ6s",
        "outputId": "87d3f82d-bf89-4a33-a8b9-29f8fbe653bf"
      },
      "outputs": [
        {
          "data": {
            "image/png": "[encoded data removed]",
            "text/plain": [
              "<Figure size 432x288 with 1 Axes>"
            ]
          },
          "metadata": {},
          "output_type": "display_data"
        }
      ],
      "source": [
        "# PLOT FOR MODEL ACCURACY\n",
        "plt.plot(history.history['accuracy'])\n",
        "plt.plot(history.history['val_accuracy'])\n",
        "plt.title('Model Accuracy')\n",
        "plt.ylabel('accuracy')\n",
        "plt.xlabel('epoch')\n",
        "plt.legend(['train', 'val'])\n",
        "plt.show()"
      ]
    },
    {
      "cell_type": "code",
      "execution_count": null,
      "metadata": {
        "colab": {
          "base_uri": "https://localhost:8080/",
          "height": 295
        },
        "id": "_48Qi1QLyfII",
        "outputId": "7008bf3d-a014-4378-ddba-ed2a29ab9442"
      },
      "outputs": [
        {
          "data": {
            "image/png": "[encoded data removed]",
            "text/plain": [
              "<Figure size 432x288 with 1 Axes>"
            ]
          },
          "metadata": {},
          "output_type": "display_data"
        }
      ],
      "source": [
        "# PLOT FOR MODEL LOSS\n",
        "plt.plot(history.history['loss'])\n",
        "plt.plot(history.history['val_loss'])\n",
        "plt.title('Model Loss')\n",
        "plt.ylabel('loss')\n",
        "plt.xlabel('epoch')\n",
        "plt.legend(['train', 'val'])\n",
        "plt.show()"
      ]
    },
    {
      "cell_type": "code",
      "execution_count": null,
      "metadata": {
        "id": "mlUOV0aiymP_"
      },
      "outputs": [],
      "source": [
        "# TESTING PREDICTION\n",
        "prediksi = ([0,48,15.05,99]),\n",
        "        "
      ]
    },
    {
      "cell_type": "code",
      "execution_count": null,
      "metadata": {
        "colab": {
          "base_uri": "https://localhost:8080/"
        },
        "id": "qYJGWrwF1y-C",
        "outputId": "60441e5c-f045-46fa-84eb-b0768ec67ea3"
      },
      "outputs": [
        {
          "data": {
            "text/plain": [
              "array([[0.44242844, 0.54404366]], dtype=float32)"
            ]
          },
          "execution_count": 39,
          "metadata": {},
          "output_type": "execute_result"
        }
      ],
      "source": [
        "# RESULT FOR PREDICTION\n",
        "model.predict(prediksi)"
      ]
    },
    {
      "cell_type": "code",
      "execution_count": null,
      "metadata": {
        "colab": {
          "base_uri": "https://localhost:8080/"
        },
        "id": "xCFWoehJyC8w",
        "outputId": "a667ca7b-5de7-40a9-f227-4ea70d1151dd"
      },
      "outputs": [
        {
          "name": "stdout",
          "output_type": "stream",
          "text": [
            "[1 0 1 0 1 1 1 1 1 0 0 1 1 1 0 0 1 1 1 1 1 1 1 0 0 1 1 1 0 1 1 1 0 0 1 0 1\n",
            " 0 1]\n",
            "[1 0 0 0 1 1 0 1 1 0 0 0 0 0 0 1 1 1 1 1 1 1 0 1 0 1 0 1 0 0 1 1 0 0 1 0 1\n",
            " 0 1]\n"
          ]
        }
      ],
      "source": [
        "# TESTING PREDICT\n",
        "y_pred = model.predict(X_test)\n",
        "y_pred = np.argmax(y_pred, axis=1)\n",
        "print(y_pred)\n",
        "y_true = np.argmax(Y_test, axis = 1)\n",
        "print(y_true)"
      ]
    },
    {
      "cell_type": "code",
      "execution_count": null,
      "metadata": {
        "colab": {
          "base_uri": "https://localhost:8080/"
        },
        "id": "X_uXvQya3lcW",
        "outputId": "79b9a503-c314-4b33-b934-9017e0af872e"
      },
      "outputs": [
        {
          "name": "stdout",
          "output_type": "stream",
          "text": [
            "[[11  8]\n",
            " [ 2 18]]\n"
          ]
        }
      ],
      "source": [
        "# MAKING CONFUSSION MATRIX\n",
        "\n",
        "conf_matrix = confusion_matrix(y_true=y_true, y_pred=y_pred)\n",
        "print(conf_matrix)"
      ]
    },
    {
      "cell_type": "code",
      "execution_count": null,
      "metadata": {
        "colab": {
          "base_uri": "https://localhost:8080/",
          "height": 432
        },
        "id": "Ku-mF5xXxc0l",
        "outputId": "d83d060f-ea53-47a8-e3df-a1668aab900a"
      },
      "outputs": [
        {
          "data": {
            "image/png": "[encoded data removed]",
            "text/plain": [
              "<Figure size 432x432 with 1 Axes>"
            ]
          },
          "metadata": {},
          "output_type": "display_data"
        }
      ],
      "source": [
        "# VISUALIZE CONFUSION MATRIX\n",
        "fig, ax = plot_confusion_matrix(conf_mat=conf_matrix, figsize=(6, 6), cmap=plt.cm.Greens)\n",
        "plt.xlabel('Predictions', fontsize=18)\n",
        "plt.ylabel('Actuals', fontsize=18)\n",
        "plt.title('Confusion Matrix', fontsize=18)\n",
        "plt.show()"
      ]
    },
    {
      "cell_type": "code",
      "execution_count": null,
      "metadata": {
        "colab": {
          "base_uri": "https://localhost:8080/"
        },
        "id": "MsAEHCEIhev9",
        "outputId": "57c18d36-283d-4361-dbc0-f033a076f609"
      },
      "outputs": [
        {
          "data": {
            "text/plain": [
              "0.8327913333678372"
            ]
          },
          "execution_count": 57,
          "metadata": {},
          "output_type": "execute_result"
        }
      ],
      "source": [
        "# CALCULATE AVERAGE PRECISION SCORE\n",
        "\n",
        "predictions = model.predict(X_val)\n",
        "\n",
        "average_precision_score(Y_val, predictions)"
      ]
    },
    {
      "cell_type": "code",
      "execution_count": null,
      "metadata": {
        "colab": {
          "base_uri": "https://localhost:8080/"
        },
        "id": "72WM7Bo37S2h",
        "outputId": "556b2d17-a572-42d0-bfcc-54f848585229"
      },
      "outputs": [
        {
          "name": "stdout",
          "output_type": "stream",
          "text": [
            "[1 0 0 0 0 1 1 0 0 0 1 1 1 1 0 0 1 0 0 1 0 0 1 0 1 1 0 1 1 0 1 0 0 1 0 1 0\n",
            " 1 0 1 1 1 1 1 0 1 1 1 1 1 0 1 1 0 1 1 1 0 0 1 1 0 0 1 1 0 0 1 1 1 0 1 1 1\n",
            " 0 0 1 1 0 0 0 0 0 0 1 0 0 1 1 1 0 1 1 0 0 1 0 1 1 0 1 0 1 1 1 0 1 0 1 1 0\n",
            " 0 1 1 1 0 1 1 0 0 0 1 0 1 1 1 0 1 1 0 1 0 0 0 0 1 1 1 0 1 1 0 0 0 0 1 0 1\n",
            " 0 0 0 0 0 0 0]\n",
            "[1 0 0 0 0 1 1 0 0 1 1 1 1 0 0 0 1 1 0 1 1 0 1 0 1 0 0 1 1 0 1 0 1 0 0 1 1\n",
            " 0 0 1 1 1 0 1 0 1 1 1 1 1 1 1 1 1 1 1 1 1 0 1 1 0 1 1 1 0 1 1 1 1 1 1 1 1\n",
            " 0 0 1 1 0 0 0 1 1 0 1 0 0 1 1 1 1 1 0 1 0 1 0 1 1 0 1 0 1 1 1 0 1 0 1 1 0\n",
            " 0 1 1 1 0 1 1 0 0 0 1 0 1 1 1 0 1 1 1 1 0 0 0 1 1 1 1 0 1 1 0 1 0 0 1 1 1\n",
            " 1 1 0 1 1 1 1]\n",
            "              precision    recall  f1-score   support\n",
            "\n",
            "           0       0.89      0.67      0.76        75\n",
            "           1       0.75      0.93      0.83        80\n",
            "\n",
            "    accuracy                           0.80       155\n",
            "   macro avg       0.82      0.80      0.80       155\n",
            "weighted avg       0.82      0.80      0.80       155\n",
            "\n"
          ]
        }
      ],
      "source": [
        "Y_val_true = np.argmax(Y_val, axis = 1)\n",
        "print(Y_val_true)\n",
        "predicts = np.argmax(predictions, axis = 1)\n",
        "print(predicts)\n",
        "report = classification_report(Y_val_true, predicts)\n",
        "print(report)"
      ]
    },
    {
      "cell_type": "code",
      "execution_count": null,
      "metadata": {
        "id": "oomW_W6ZKh0_"
      },
      "outputs": [],
      "source": [
        "# Saving model\n",
        "# Calling `save('my_model.h5')` creates a h5 file `my_model.h5`.\n",
        "model.save(\"my_h5_model.h5\")\n",
        "\n",
        "# It can be used to reconstruct the model identically.\n",
        "reconstructed_model = keras.models.load_model(\"my_h5_model.h5\")"
      ]
    },
    {
      "cell_type": "markdown",
      "metadata": {
        "id": "RUhjARXBHeMo"
      },
      "source": [
        "# New Section"
      ]
    }
  ],
  "metadata": {
    "colab": {
      "collapsed_sections": [],
      "name": "Copy of BANGKIT FIX NN .ipynb",
      "provenance": [],
      "include_colab_link": true
    },
    "kernelspec": {
      "display_name": "Python 3",
      "name": "python3"
    },
    "language_info": {
      "name": "python"
    }
  },
  "nbformat": 4,
  "nbformat_minor": 0
}